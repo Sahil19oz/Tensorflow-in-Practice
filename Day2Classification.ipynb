{
 "cells": [
  {
   "cell_type": "code",
   "execution_count": 3,
   "metadata": {},
   "outputs": [],
   "source": [
    "import tensorflow as tf\n",
    "from tensorflow.keras.models import Sequential\n",
    "from tensorflow.keras.layers import Conv2D,MaxPooling2D,Flatten,Dense\n",
    "from tensorflow.keras.preprocessing.image import ImageDataGenerator"
   ]
  },
  {
   "cell_type": "code",
   "execution_count": 9,
   "metadata": {},
   "outputs": [],
   "source": [
    "class mycallback(tf.keras.callbacks.Callback):\n",
    "    def on_epoch_end(self,epoch,logs={}):\n",
    "        if logs.get(\"loss\")>0.9999:\n",
    "            print(\"Reached 99% accuracy so ending training\")\n",
    "            self.model.stop_training=True\n",
    "\n",
    "callbacks=mycallback()"
   ]
  },
  {
   "cell_type": "code",
   "execution_count": 6,
   "metadata": {},
   "outputs": [],
   "source": [
    "model=Sequential([\n",
    "    Conv2D(16,(3,3),activation=\"relu\",input_shape=(150,150,3)),\n",
    "    MaxPooling2D(2,2),\n",
    "    Conv2D(32,(3,3),activation=\"relu\"),\n",
    "    MaxPooling2D(2,2),\n",
    "    Conv2D(32,(3,3),activation=\"relu\"),\n",
    "    MaxPooling2D(2,2),\n",
    "    Flatten(),\n",
    "    Dense(512,activation=\"relu\"),\n",
    "    Dense(1,activation=\"sigmoid\")\n",
    "])\n",
    "\n",
    "from tensorflow.keras.optimizers import RMSprop\n",
    "model.compile(loss='binary_crossentropy',\n",
    "              optimizer=RMSprop(lr=0.001),\n",
    "              metrics=['accuracy'])"
   ]
  },
  {
   "cell_type": "code",
   "execution_count": 7,
   "metadata": {},
   "outputs": [
    {
     "name": "stdout",
     "output_type": "stream",
     "text": [
      "Found 80 images belonging to 2 classes.\n"
     ]
    }
   ],
   "source": [
    "train_datagen=ImageDataGenerator(rescale=1./255)\n",
    "\n",
    "train_generator=train_datagen.flow_from_directory(\n",
    "    \"./tmp/happy-sad\",\n",
    "    target_size=(150,150),\n",
    "    batch_size=10,\n",
    "    class_mode=\"binary\")"
   ]
  },
  {
   "cell_type": "code",
   "execution_count": null,
   "metadata": {},
   "outputs": [
    {
     "name": "stdout",
     "output_type": "stream",
     "text": [
      "Train for 8 steps\n",
      "Epoch 1/15\n",
      "8/8 [==============================] - 3s 334ms/step - loss: 0.4453 - accuracy: 0.8125\n",
      "Epoch 2/15\n",
      "8/8 [==============================] - 3s 333ms/step - loss: 0.3717 - accuracy: 0.8500\n",
      "Epoch 3/15\n",
      "8/8 [==============================] - 3s 337ms/step - loss: 0.1418 - accuracy: 0.9500\n",
      "Epoch 4/15\n",
      "8/8 [==============================] - 3s 339ms/step - loss: 0.1500 - accuracy: 0.9250\n",
      "Epoch 5/15\n",
      "8/8 [==============================] - 3s 339ms/step - loss: 0.0504 - accuracy: 0.9875\n",
      "Epoch 6/15\n",
      "8/8 [==============================] - 3s 344ms/step - loss: 0.0597 - accuracy: 0.9875\n",
      "Epoch 7/15\n",
      "3/8 [==========>...................] - ETA: 2s - loss: 0.0155 - accuracy: 1.0000"
     ]
    }
   ],
   "source": [
    "history=model.fit(\n",
    "      train_generator,\n",
    "      steps_per_epoch=8,  \n",
    "      epochs=15,\n",
    "      verbose=1,\n",
    "      callbacks=[callbacks])  "
   ]
  },
  {
   "cell_type": "code",
   "execution_count": null,
   "metadata": {},
   "outputs": [],
   "source": []
  }
 ],
 "metadata": {
  "kernelspec": {
   "display_name": "Python 3",
   "language": "python",
   "name": "python3"
  },
  "language_info": {
   "codemirror_mode": {
    "name": "ipython",
    "version": 3
   },
   "file_extension": ".py",
   "mimetype": "text/x-python",
   "name": "python",
   "nbconvert_exporter": "python",
   "pygments_lexer": "ipython3",
   "version": "3.5.6"
  }
 },
 "nbformat": 4,
 "nbformat_minor": 2
}
