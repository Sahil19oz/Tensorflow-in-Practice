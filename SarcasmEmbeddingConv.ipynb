{
 "cells": [
  {
   "cell_type": "code",
   "execution_count": 1,
   "metadata": {},
   "outputs": [],
   "source": [
    "import json\n",
    "import numpy as np\n",
    "import matplotlib.pyplot as plt\n",
    "import tensorflow as tf\n",
    "from tensorflow.keras.preprocessing.text import Tokenizer\n",
    "from tensorflow.keras.preprocessing.sequence import pad_sequences"
   ]
  },
  {
   "cell_type": "code",
   "execution_count": 2,
   "metadata": {},
   "outputs": [],
   "source": [
    "#Loading Data\n",
    "with open(\"./tmp/sarcasm.json\",\"r\") as f:\n",
    "    datastore=json.load(f)\n",
    "\n",
    "sentences=[]\n",
    "labels=[]\n",
    "for item in datastore:\n",
    "    sentences.append(item[\"headline\"])\n",
    "    labels.append(item[\"is_sarcastic\"])\n",
    "    "
   ]
  },
  {
   "cell_type": "code",
   "execution_count": 3,
   "metadata": {},
   "outputs": [],
   "source": [
    "#defining Constants\n",
    "vocab_size=10000\n",
    "embedding_dims=16\n",
    "max_length=120\n",
    "trunc_type=\"post\"\n",
    "padding_type=\"post\"\n",
    "oov_tok=\"<OOV>\"\n",
    "training_size=20000\n",
    "num_epochs=50\n",
    "\n",
    "training_sentences=sentences[:training_size]\n",
    "training_labels=labels[:training_size]\n",
    "testing_sentences=sentences[training_size:]\n",
    "testing_labels=labels[training_size:]"
   ]
  },
  {
   "cell_type": "code",
   "execution_count": 4,
   "metadata": {},
   "outputs": [],
   "source": [
    "#Tokenizing and Padding\n",
    "tokenizer=Tokenizer(num_words=vocab_size,oov_token=oov_tok)\n",
    "tokenizer.fit_on_texts(training_sentences)\n",
    "\n",
    "word_index=tokenizer.word_index\n",
    "\n",
    "training_sequences=tokenizer.texts_to_sequences(training_sentences)\n",
    "training_padded=pad_sequences(training_sequences,maxlen=max_length,padding=padding_type)\n",
    "\n",
    "testing_sequences=tokenizer.texts_to_sequences(testing_sentences)\n",
    "testing_padded=pad_sequences(testing_sequences,maxlen=max_length,padding=padding_type)"
   ]
  },
  {
   "cell_type": "code",
   "execution_count": 5,
   "metadata": {},
   "outputs": [
    {
     "name": "stdout",
     "output_type": "stream",
     "text": [
      "Model: \"sequential\"\n",
      "_________________________________________________________________\n",
      "Layer (type)                 Output Shape              Param #   \n",
      "=================================================================\n",
      "embedding (Embedding)        (None, 120, 16)           160000    \n",
      "_________________________________________________________________\n",
      "conv1d (Conv1D)              (None, 116, 128)          10368     \n",
      "_________________________________________________________________\n",
      "global_max_pooling1d (Global (None, 128)               0         \n",
      "_________________________________________________________________\n",
      "dense (Dense)                (None, 24)                3096      \n",
      "_________________________________________________________________\n",
      "dense_1 (Dense)              (None, 1)                 25        \n",
      "=================================================================\n",
      "Total params: 173,489\n",
      "Trainable params: 173,489\n",
      "Non-trainable params: 0\n",
      "_________________________________________________________________\n"
     ]
    }
   ],
   "source": [
    "#Model defination\n",
    "model=tf.keras.models.Sequential([\n",
    "    tf.keras.layers.Embedding(vocab_size,embedding_dims,input_length=max_length),\n",
    "    tf.keras.layers.Conv1D(128,5,activation=\"relu\"),\n",
    "    tf.keras.layers.GlobalMaxPooling1D(),\n",
    "    tf.keras.layers.Dense(24,activation=\"relu\"),\n",
    "    tf.keras.layers.Dense(1,activation=\"sigmoid\")\n",
    "])\n",
    "\n",
    "model.compile(loss=\"binary_crossentropy\",optimizer=\"adam\",metrics=[\"accuracy\"])\n",
    "model.summary()"
   ]
  },
  {
   "cell_type": "code",
   "execution_count": 6,
   "metadata": {},
   "outputs": [
    {
     "name": "stdout",
     "output_type": "stream",
     "text": [
      "Epoch 1/50\n",
      "625/625 [==============================] - 13s 20ms/step - accuracy: 0.7811 - loss: 0.4412 - val_loss: 0.3551 - val_accuracy: 0.8462\n",
      "Epoch 2/50\n",
      "625/625 [==============================] - 12s 18ms/step - accuracy: 0.9089 - loss: 0.2257 - val_loss: 0.3683 - val_accuracy: 0.8486\n",
      "Epoch 3/50\n",
      "625/625 [==============================] - 12s 19ms/step - accuracy: 0.9614 - loss: 0.1123 - val_loss: 0.4778 - val_accuracy: 0.8365\n",
      "Epoch 4/50\n",
      "625/625 [==============================] - 12s 19ms/step - accuracy: 0.9855 - loss: 0.0470 - val_loss: 0.5846 - val_accuracy: 0.8368\n",
      "Epoch 5/50\n",
      "625/625 [==============================] - 12s 19ms/step - accuracy: 0.9954 - loss: 0.0177 - val_loss: 0.7459 - val_accuracy: 0.8334\n",
      "Epoch 6/50\n",
      "625/625 [==============================] - 12s 19ms/step - accuracy: 0.9987 - loss: 0.0061 - val_loss: 0.8280 - val_accuracy: 0.8319\n",
      "Epoch 7/50\n",
      "625/625 [==============================] - 11s 18ms/step - accuracy: 0.9991 - loss: 0.0034 - val_loss: 0.9322 - val_accuracy: 0.8362\n",
      "Epoch 8/50\n",
      "625/625 [==============================] - 11s 18ms/step - accuracy: 0.9996 - loss: 0.0017 - val_loss: 0.9936 - val_accuracy: 0.8348\n",
      "Epoch 9/50\n",
      "625/625 [==============================] - 11s 18ms/step - accuracy: 0.9997 - loss: 0.0013 - val_loss: 1.1339 - val_accuracy: 0.8308\n",
      "Epoch 10/50\n",
      "625/625 [==============================] - 11s 18ms/step - accuracy: 0.9998 - loss: 0.0011 - val_loss: 1.1168 - val_accuracy: 0.8347\n",
      "Epoch 11/50\n",
      "625/625 [==============================] - 11s 18ms/step - accuracy: 0.9997 - loss: 0.0012 - val_loss: 1.1847 - val_accuracy: 0.8346\n",
      "Epoch 12/50\n",
      "625/625 [==============================] - 11s 18ms/step - accuracy: 0.9988 - loss: 0.0036 - val_loss: 1.2354 - val_accuracy: 0.8185\n",
      "Epoch 13/50\n",
      "625/625 [==============================] - 11s 18ms/step - accuracy: 0.9955 - loss: 0.0122 - val_loss: 1.2168 - val_accuracy: 0.8256\n",
      "Epoch 14/50\n",
      "625/625 [==============================] - 11s 18ms/step - accuracy: 0.9965 - loss: 0.0092 - val_loss: 1.2139 - val_accuracy: 0.8249\n",
      "Epoch 15/50\n",
      "625/625 [==============================] - 12s 19ms/step - accuracy: 0.9991 - loss: 0.0031 - val_loss: 1.3078 - val_accuracy: 0.8253\n",
      "Epoch 16/50\n",
      "625/625 [==============================] - 11s 18ms/step - accuracy: 0.9996 - loss: 0.0012 - val_loss: 1.2963 - val_accuracy: 0.8232\n",
      "Epoch 17/50\n",
      "625/625 [==============================] - 11s 18ms/step - accuracy: 0.9995 - loss: 0.0011 - val_loss: 1.3654 - val_accuracy: 0.8238\n",
      "Epoch 18/50\n",
      "625/625 [==============================] - 11s 18ms/step - accuracy: 0.9995 - loss: 8.3356e-04 - val_loss: 1.4094 - val_accuracy: 0.8234\n",
      "Epoch 19/50\n",
      "625/625 [==============================] - 11s 18ms/step - accuracy: 0.9997 - loss: 8.7066e-04 - val_loss: 1.3885 - val_accuracy: 0.8277\n",
      "Epoch 20/50\n",
      "625/625 [==============================] - 12s 18ms/step - accuracy: 0.9998 - loss: 5.8535e-04 - val_loss: 1.4643 - val_accuracy: 0.8229\n",
      "Epoch 21/50\n",
      "625/625 [==============================] - 12s 19ms/step - accuracy: 0.9996 - loss: 7.6226e-04 - val_loss: 1.4545 - val_accuracy: 0.8237\n",
      "Epoch 22/50\n",
      "625/625 [==============================] - 12s 18ms/step - accuracy: 0.9991 - loss: 0.0013 - val_loss: 1.9621 - val_accuracy: 0.8126\n",
      "Epoch 23/50\n",
      "625/625 [==============================] - 12s 19ms/step - accuracy: 0.9984 - loss: 0.0047 - val_loss: 1.6431 - val_accuracy: 0.8188\n",
      "Epoch 24/50\n",
      "625/625 [==============================] - 12s 19ms/step - accuracy: 0.9988 - loss: 0.0034 - val_loss: 1.6019 - val_accuracy: 0.8237\n",
      "Epoch 25/50\n",
      "625/625 [==============================] - 14s 22ms/step - accuracy: 0.9997 - loss: 7.7712e-04 - val_loss: 1.7623 - val_accuracy: 0.8217\n",
      "Epoch 26/50\n",
      "625/625 [==============================] - 13s 21ms/step - accuracy: 0.9997 - loss: 5.9473e-04 - val_loss: 1.6516 - val_accuracy: 0.8262\n",
      "Epoch 27/50\n",
      "625/625 [==============================] - 14s 22ms/step - accuracy: 0.9997 - loss: 6.3012e-04 - val_loss: 1.6763 - val_accuracy: 0.8255\n",
      "Epoch 28/50\n",
      "625/625 [==============================] - 13s 21ms/step - accuracy: 0.9997 - loss: 6.1188e-04 - val_loss: 1.6557 - val_accuracy: 0.8267\n",
      "Epoch 29/50\n",
      "625/625 [==============================] - 12s 20ms/step - accuracy: 0.9998 - loss: 5.3467e-04 - val_loss: 1.6710 - val_accuracy: 0.8274\n",
      "Epoch 30/50\n",
      "625/625 [==============================] - 12s 19ms/step - accuracy: 0.9997 - loss: 6.0102e-04 - val_loss: 1.6886 - val_accuracy: 0.8262\n",
      "Epoch 31/50\n",
      "625/625 [==============================] - 12s 18ms/step - accuracy: 0.9998 - loss: 4.9863e-04 - val_loss: 1.6826 - val_accuracy: 0.8265\n",
      "Epoch 32/50\n",
      "625/625 [==============================] - 12s 18ms/step - accuracy: 0.9997 - loss: 5.1193e-04 - val_loss: 1.7183 - val_accuracy: 0.8244\n",
      "Epoch 33/50\n",
      "625/625 [==============================] - 12s 19ms/step - accuracy: 0.9997 - loss: 5.8957e-04 - val_loss: 1.7790 - val_accuracy: 0.8222\n",
      "Epoch 34/50\n",
      "625/625 [==============================] - 12s 18ms/step - accuracy: 0.9987 - loss: 0.0036 - val_loss: 2.0090 - val_accuracy: 0.8183\n",
      "Epoch 35/50\n",
      "625/625 [==============================] - 11s 18ms/step - accuracy: 0.9988 - loss: 0.0041 - val_loss: 1.8782 - val_accuracy: 0.8217\n",
      "Epoch 36/50\n",
      "625/625 [==============================] - 12s 18ms/step - accuracy: 0.9996 - loss: 0.0010 - val_loss: 1.8976 - val_accuracy: 0.8219\n",
      "Epoch 37/50\n",
      "625/625 [==============================] - 12s 19ms/step - accuracy: 0.9998 - loss: 4.4936e-04 - val_loss: 1.9399 - val_accuracy: 0.8228\n",
      "Epoch 38/50\n",
      "625/625 [==============================] - 12s 18ms/step - accuracy: 0.9996 - loss: 4.7036e-04 - val_loss: 1.9678 - val_accuracy: 0.8214\n",
      "Epoch 39/50\n",
      "625/625 [==============================] - 12s 19ms/step - accuracy: 0.9998 - loss: 4.4217e-04 - val_loss: 1.9892 - val_accuracy: 0.8214\n",
      "Epoch 40/50\n",
      "625/625 [==============================] - 12s 19ms/step - accuracy: 0.9997 - loss: 4.6499e-04 - val_loss: 1.9580 - val_accuracy: 0.8213\n",
      "Epoch 41/50\n",
      "625/625 [==============================] - 12s 19ms/step - accuracy: 0.9998 - loss: 4.6621e-04 - val_loss: 1.9777 - val_accuracy: 0.8214\n",
      "Epoch 42/50\n",
      "625/625 [==============================] - 12s 19ms/step - accuracy: 0.9997 - loss: 4.5584e-04 - val_loss: 1.9730 - val_accuracy: 0.8198\n",
      "Epoch 43/50\n",
      "625/625 [==============================] - 12s 19ms/step - accuracy: 0.9997 - loss: 4.1668e-04 - val_loss: 1.9913 - val_accuracy: 0.8190\n",
      "Epoch 44/50\n",
      "625/625 [==============================] - 12s 19ms/step - accuracy: 0.9996 - loss: 4.2084e-04 - val_loss: 2.0016 - val_accuracy: 0.8189\n",
      "Epoch 45/50\n",
      "625/625 [==============================] - 12s 18ms/step - accuracy: 0.9997 - loss: 4.1718e-04 - val_loss: 2.0262 - val_accuracy: 0.8189\n",
      "Epoch 46/50\n",
      "625/625 [==============================] - 12s 18ms/step - accuracy: 0.9997 - loss: 4.0906e-04 - val_loss: 2.0778 - val_accuracy: 0.8188\n",
      "Epoch 47/50\n",
      "625/625 [==============================] - 12s 19ms/step - accuracy: 0.9998 - loss: 4.0663e-04 - val_loss: 2.1265 - val_accuracy: 0.8180\n",
      "Epoch 48/50\n",
      "625/625 [==============================] - 12s 19ms/step - accuracy: 0.9998 - loss: 3.9451e-04 - val_loss: 2.2036 - val_accuracy: 0.8185\n",
      "Epoch 49/50\n",
      "625/625 [==============================] - 12s 19ms/step - accuracy: 0.9997 - loss: 3.9897e-04 - val_loss: 2.2385 - val_accuracy: 0.8192\n",
      "Epoch 50/50\n",
      "625/625 [==============================] - 12s 19ms/step - accuracy: 0.9998 - loss: 3.9343e-04 - val_loss: 2.3062 - val_accuracy: 0.8162\n"
     ]
    }
   ],
   "source": [
    "training_padded=np.array(training_padded)\n",
    "training_labels=np.array(training_labels)\n",
    "testing_padded=np.array(testing_padded)\n",
    "testing_labels=np.array(testing_labels)\n",
    "\n",
    "history=model.fit(training_padded,training_labels,epochs=num_epochs,validation_data=(testing_padded, testing_labels), verbose=1)"
   ]
  },
  {
   "cell_type": "code",
   "execution_count": 7,
   "metadata": {},
   "outputs": [
    {
     "data": {
      "image/png": "[encoded data removed]",
      "text/plain": [
       "<Figure size 432x288 with 1 Axes>"
      ]
     },
     "metadata": {
      "needs_background": "light"
     },
     "output_type": "display_data"
    },
    {
     "data": {
      "image/png": "[encoded data removed]",
      "text/plain": [
       "<Figure size 432x288 with 1 Axes>"
      ]
     },
     "metadata": {
      "needs_background": "light"
     },
     "output_type": "display_data"
    }
   ],
   "source": [
    "def plot_graph(history,string):\n",
    "    plt.plot(history.history[string])\n",
    "    plt.plot(history.history[\"val_\"+string])\n",
    "    plt.xlabel(\"EPOCHS\")\n",
    "    plt.ylabel(string)\n",
    "    plt.legend([string,'val_'+string])\n",
    "    plt.show()\n",
    "    \n",
    "plot_graph(history,\"accuracy\")\n",
    "plot_graph(history,\"loss\")"
   ]
  },
  {
   "cell_type": "code",
   "execution_count": 8,
   "metadata": {},
   "outputs": [],
   "source": [
    "model.save(\"sarcasm.h5\")"
   ]
  },
  {
   "cell_type": "code",
   "execution_count": 11,
   "metadata": {},
   "outputs": [
    {
     "name": "stdout",
     "output_type": "stream",
     "text": [
      "former <OOV> store clerk sues over secret 'black <OOV> for minority shoppers ? ? ? ? ? ? ? ? ? ? ? ? ? ? ? ? ? ? ? ? ? ? ? ? ? ? ? ? ? ? ? ? ? ? ? ? ? ? ? ? ? ? ? ? ? ? ? ? ? ? ? ? ? ? ? ? ? ? ? ? ? ? ? ? ? ? ? ? ? ? ? ? ? ? ? ? ? ? ? ? ? ? ? ? ? ? ? ? ? ? ? ? ? ? ? ? ? ? ? ? ? ? ? ? ? ? ? ?\n",
      "mom starting to fear son's web series closest thing she will have to grandchild\n",
      "1\n"
     ]
    }
   ],
   "source": [
    "reverse_word_index=dict([(value,key) for (key,value) in word_index.items()])\n",
    "\n",
    "def decode_sentence(text):\n",
    "    return \" \".join([reverse_word_index.get(i,'?') for i in text])\n",
    "\n",
    "print(decode_sentence(training_padded[0]))\n",
    "print(training_sentences[2])\n",
    "print(labels[2])"
   ]
  },
  {
   "cell_type": "code",
   "execution_count": 13,
   "metadata": {},
   "outputs": [
    {
     "name": "stdout",
     "output_type": "stream",
     "text": [
      "(10000, 16)\n"
     ]
    }
   ],
   "source": [
    "e=model.layers[0]\n",
    "weights=e.get_weights()[0]\n",
    "print(weights.shape)"
   ]
  },
  {
   "cell_type": "code",
   "execution_count": 14,
   "metadata": {},
   "outputs": [],
   "source": [
    "import io\n",
    "\n",
    "out_v=io.open(\"vecs.tsv\",\"w\",encoding=\"utf-8\")\n",
    "out_m=io.open(\"meta.tsv\",\"w\",encoding=\"utf-8\")\n",
    "for word_num in range(1,vocab_size):\n",
    "    word = reverse_word_index[word_num]\n",
    "    embeddings = weights[word_num]\n",
    "    out_m.write(word + \"\\n\")\n",
    "    out_v.write('\\t'.join([str(x) for x in embeddings]) + \"\\n\")\n",
    "out_v.close()\n",
    "out_m.close()"
   ]
  },
  {
   "cell_type": "code",
   "execution_count": 15,
   "metadata": {},
   "outputs": [
    {
     "name": "stdout",
     "output_type": "stream",
     "text": [
      "[[1.9474541e-01]\n",
      " [1.3531869e-17]]\n"
     ]
    }
   ],
   "source": [
    "sentence = [\"granny starting to fear spiders in the garden might be real\", \"game of thrones season finale showing this sunday night\"]\n",
    "sequences = tokenizer.texts_to_sequences(sentence)\n",
    "padded = pad_sequences(sequences, maxlen=max_length, padding=padding_type, truncating=trunc_type)\n",
    "print(model.predict(padded))"
   ]
  },
  {
   "cell_type": "code",
   "execution_count": null,
   "metadata": {},
   "outputs": [],
   "source": []
  }
 ],
 "metadata": {
  "kernelspec": {
   "display_name": "Python 3",
   "language": "python",
   "name": "python3"
  },
  "language_info": {
   "codemirror_mode": {
    "name": "ipython",
    "version": 3
   },
   "file_extension": ".py",
   "mimetype": "text/x-python",
   "name": "python",
   "nbconvert_exporter": "python",
   "pygments_lexer": "ipython3",
   "version": "3.5.6"
  }
 },
 "nbformat": 4,
 "nbformat_minor": 2
}
